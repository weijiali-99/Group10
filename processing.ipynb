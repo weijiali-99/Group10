{
 "cells": [
  {
   "cell_type": "code",
   "execution_count": 1,
   "id": "bb0416d3",
   "metadata": {},
   "outputs": [],
   "source": [
    "import pandas as pd\n",
    "import matplotlib.pyplot as plt \n",
    "#plt.rcParams['font.sans-serif'] = ['Microsoft YaHei']\n",
    "from pylab import *\n",
    "mpl.rcParams['font.sans-serif'] = ['SimHei']\n",
    "from scipy import stats\n",
    "import jieba\n",
    "import wordcloud\n",
    "import numpy                       \n",
    "from PIL import Image "
   ]
  },
  {
   "cell_type": "code",
   "execution_count": 2,
   "id": "51c29421",
   "metadata": {},
   "outputs": [],
   "source": [
    "df_ad=pd.read_csv('advertising.csv')\n",
    "df_ba=pd.read_csv('business_analysis.csv')\n",
    "df_co=pd.read_csv('content_operation.csv')\n",
    "df_pm=pd.read_csv('product_manager.csv')\n",
    "df_pr=pd.read_csv('public_relation.csv')\n",
    "df_us=pd.read_csv('user_analysis.csv')"
   ]
  },
  {
   "cell_type": "code",
   "execution_count": 3,
   "id": "54ad150b",
   "metadata": {},
   "outputs": [
    {
     "data": {
      "text/html": [
       "<div>\n",
       "<style scoped>\n",
       "    .dataframe tbody tr th:only-of-type {\n",
       "        vertical-align: middle;\n",
       "    }\n",
       "\n",
       "    .dataframe tbody tr th {\n",
       "        vertical-align: top;\n",
       "    }\n",
       "\n",
       "    .dataframe thead th {\n",
       "        text-align: right;\n",
       "    }\n",
       "</style>\n",
       "<table border=\"1\" class=\"dataframe\">\n",
       "  <thead>\n",
       "    <tr style=\"text-align: right;\">\n",
       "      <th></th>\n",
       "      <th>岗位名称</th>\n",
       "      <th>公司名</th>\n",
       "      <th>招聘详情页</th>\n",
       "      <th>薪资</th>\n",
       "      <th>工作地点</th>\n",
       "      <th>身份要求</th>\n",
       "      <th>学历要求</th>\n",
       "      <th>公司规模</th>\n",
       "      <th>公司简介</th>\n",
       "    </tr>\n",
       "  </thead>\n",
       "  <tbody>\n",
       "    <tr>\n",
       "      <th>0</th>\n",
       "      <td>广告</td>\n",
       "      <td>星创传媒</td>\n",
       "      <td>https://www.shixiseng.com/intern/inn_v7dh0tzfx...</td>\n",
       "      <td>7k-9k/月</td>\n",
       "      <td>上海</td>\n",
       "      <td>| 应届生 | 毕业1年内</td>\n",
       "      <td>| 大专</td>\n",
       "      <td>15-50人</td>\n",
       "      <td>锻炼机会多，大专及以上，地铁直达，员工团建，工作氛围活泼，留任发展</td>\n",
       "    </tr>\n",
       "    <tr>\n",
       "      <th>1</th>\n",
       "      <td>广告</td>\n",
       "      <td>萌牙科技</td>\n",
       "      <td>https://www.shixiseng.com/intern/inn_yagwygxak...</td>\n",
       "      <td>8k-10k/月</td>\n",
       "      <td>宁波</td>\n",
       "      <td>| 应届生 | 毕业1年内</td>\n",
       "      <td>| 本科</td>\n",
       "      <td>150-500人</td>\n",
       "      <td>创客，福利环境超好，团队努力向上，双休年假，员工团建，节假日福利</td>\n",
       "    </tr>\n",
       "    <tr>\n",
       "      <th>2</th>\n",
       "      <td>广告</td>\n",
       "      <td>智岩科技</td>\n",
       "      <td>https://www.shixiseng.com/intern/inn_xdk9pygbl...</td>\n",
       "      <td>7k-9k/月</td>\n",
       "      <td>深圳</td>\n",
       "      <td>| 应届生</td>\n",
       "      <td>| 本科</td>\n",
       "      <td>150-500人</td>\n",
       "      <td>跨境电商，研发型企业，智能硬件</td>\n",
       "    </tr>\n",
       "    <tr>\n",
       "      <th>3</th>\n",
       "      <td>广告</td>\n",
       "      <td>CDG</td>\n",
       "      <td>https://www.shixiseng.com/intern/inn_9ljlqtv3q...</td>\n",
       "      <td>6k-8k/月</td>\n",
       "      <td>上海</td>\n",
       "      <td>| 应届生 | 毕业1年内</td>\n",
       "      <td>| 本科</td>\n",
       "      <td>15-50人</td>\n",
       "      <td>弹性办公，年轻活力，国际化视野，数字营销</td>\n",
       "    </tr>\n",
       "    <tr>\n",
       "      <th>4</th>\n",
       "      <td>广告</td>\n",
       "      <td>艾砾文化</td>\n",
       "      <td>https://www.shixiseng.com/intern/inn_5y14m6aoc...</td>\n",
       "      <td>3k-4k/月</td>\n",
       "      <td>上海</td>\n",
       "      <td>| 应届生</td>\n",
       "      <td>| 不限</td>\n",
       "      <td>15-50人</td>\n",
       "      <td>广告，学习氛围好，有转正机会，新媒体运营，时间弹性，年轻平等</td>\n",
       "    </tr>\n",
       "  </tbody>\n",
       "</table>\n",
       "</div>"
      ],
      "text/plain": [
       "  岗位名称   公司名                                              招聘详情页        薪资  \\\n",
       "0   广告  星创传媒  https://www.shixiseng.com/intern/inn_v7dh0tzfx...   7k-9k/月   \n",
       "1   广告  萌牙科技  https://www.shixiseng.com/intern/inn_yagwygxak...  8k-10k/月   \n",
       "2   广告  智岩科技  https://www.shixiseng.com/intern/inn_xdk9pygbl...   7k-9k/月   \n",
       "3   广告   CDG  https://www.shixiseng.com/intern/inn_9ljlqtv3q...   6k-8k/月   \n",
       "4   广告  艾砾文化  https://www.shixiseng.com/intern/inn_5y14m6aoc...   3k-4k/月   \n",
       "\n",
       "  工作地点           身份要求  学历要求      公司规模                               公司简介  \n",
       "0   上海  | 应届生 | 毕业1年内  | 大专    15-50人  锻炼机会多，大专及以上，地铁直达，员工团建，工作氛围活泼，留任发展  \n",
       "1   宁波  | 应届生 | 毕业1年内  | 本科  150-500人   创客，福利环境超好，团队努力向上，双休年假，员工团建，节假日福利  \n",
       "2   深圳          | 应届生  | 本科  150-500人                    跨境电商，研发型企业，智能硬件  \n",
       "3   上海  | 应届生 | 毕业1年内  | 本科    15-50人               弹性办公，年轻活力，国际化视野，数字营销  \n",
       "4   上海          | 应届生  | 不限    15-50人     广告，学习氛围好，有转正机会，新媒体运营，时间弹性，年轻平等  "
      ]
     },
     "execution_count": 3,
     "metadata": {},
     "output_type": "execute_result"
    }
   ],
   "source": [
    "df=pd.concat([df_ad,df_ba,df_co,df_us,df_pr,df_pm])\n",
    "df=df.reset_index(drop=True)\n",
    "#df.to_csv('shixiseng.csv')\n",
    "df.head()"
   ]
  },
  {
   "cell_type": "markdown",
   "id": "5e1aeff2",
   "metadata": {},
   "source": [
    "# data cleaning"
   ]
  },
  {
   "cell_type": "code",
   "execution_count": 4,
   "id": "4d4cc1a8",
   "metadata": {},
   "outputs": [
    {
     "data": {
      "text/plain": [
       "0    | 大专\n",
       "1    | 本科\n",
       "2    | 本科\n",
       "3    | 本科\n",
       "4    | 不限\n",
       "Name: 学历要求, dtype: object"
      ]
     },
     "execution_count": 4,
     "metadata": {},
     "output_type": "execute_result"
    }
   ],
   "source": [
    "#1.education level\n",
    "df['学历要求'].head()"
   ]
  },
  {
   "cell_type": "code",
   "execution_count": 5,
   "id": "646177d5",
   "metadata": {},
   "outputs": [
    {
     "data": {
      "text/plain": [
       "0     大专\n",
       "1     本科\n",
       "2     本科\n",
       "3     本科\n",
       "4     不限\n",
       "Name: 学历要求, dtype: object"
      ]
     },
     "execution_count": 5,
     "metadata": {},
     "output_type": "execute_result"
    }
   ],
   "source": [
    "df['学历要求']=df['学历要求'].str.strip('|')\n",
    "df['学历要求'].head()"
   ]
  },
  {
   "cell_type": "code",
   "execution_count": 6,
   "id": "b5d25e85",
   "metadata": {},
   "outputs": [
    {
     "data": {
      "text/plain": [
       "0    | 应届生 | 毕业1年内\n",
       "1    | 应届生 | 毕业1年内\n",
       "2            | 应届生\n",
       "3    | 应届生 | 毕业1年内\n",
       "4            | 应届生\n",
       "Name: 身份要求, dtype: object"
      ]
     },
     "execution_count": 6,
     "metadata": {},
     "output_type": "execute_result"
    }
   ],
   "source": [
    "#2.identity\n",
    "df['身份要求'].head()"
   ]
  },
  {
   "cell_type": "code",
   "execution_count": 7,
   "id": "e14619c5",
   "metadata": {},
   "outputs": [
    {
     "name": "stderr",
     "output_type": "stream",
     "text": [
      "<ipython-input-7-b0f79722d39f>:1: FutureWarning: The default value of regex will change from True to False in a future version. In addition, single character regular expressions will*not* be treated as literal strings when regex=True.\n",
      "  df['身份要求']=df['身份要求'].str.replace(\"|\",\"\")\n"
     ]
    },
    {
     "data": {
      "text/plain": [
       "0     应届生  毕业1年内\n",
       "1     应届生  毕业1年内\n",
       "2            应届生\n",
       "3     应届生  毕业1年内\n",
       "4            应届生\n",
       "Name: 身份要求, dtype: object"
      ]
     },
     "execution_count": 7,
     "metadata": {},
     "output_type": "execute_result"
    }
   ],
   "source": [
    "df['身份要求']=df['身份要求'].str.replace(\"|\",\"\")\n",
    "df['身份要求'].head()"
   ]
  },
  {
   "cell_type": "code",
   "execution_count": 8,
   "id": "ae9c2038",
   "metadata": {},
   "outputs": [
    {
     "data": {
      "text/plain": [
       "0    7000.0\n",
       "1    8000.0\n",
       "2    7000.0\n",
       "3    6000.0\n",
       "4    3000.0\n",
       "Name: 最低薪资, dtype: float64"
      ]
     },
     "execution_count": 8,
     "metadata": {},
     "output_type": "execute_result"
    }
   ],
   "source": [
    "#3.salary\n",
    "df['最低薪资']=df['薪资'].str.split('-').str.get(0).str.replace('k','000')\n",
    "df['最低薪资']=pd.to_numeric(df['最低薪资'],errors='coerce')\n",
    "df['最低薪资'].head()"
   ]
  },
  {
   "cell_type": "code",
   "execution_count": 9,
   "id": "8e61bec0",
   "metadata": {},
   "outputs": [
    {
     "data": {
      "text/plain": [
       "0     9000.0\n",
       "1    10000.0\n",
       "2     9000.0\n",
       "3     8000.0\n",
       "4     4000.0\n",
       "Name: 最高薪资, dtype: float64"
      ]
     },
     "execution_count": 9,
     "metadata": {},
     "output_type": "execute_result"
    }
   ],
   "source": [
    "df['最高薪资']=df['薪资'].str.split('-').str.get(1).str.replace('k/月','000').fillna(\"薪资面议\")\n",
    "df['最高薪资']=pd.to_numeric(df['最高薪资'],errors='coerce')\n",
    "df['最高薪资'].head()"
   ]
  },
  {
   "cell_type": "code",
   "execution_count": 10,
   "id": "80c8f08a",
   "metadata": {},
   "outputs": [
    {
     "data": {
      "text/plain": [
       "(1200, 11)"
      ]
     },
     "execution_count": 10,
     "metadata": {},
     "output_type": "execute_result"
    }
   ],
   "source": [
    "#4. duplicated items\n",
    "df.duplicated().head(30)#判断是否有重复项\n",
    "df.shape"
   ]
  },
  {
   "cell_type": "code",
   "execution_count": 11,
   "id": "5a79fd1b",
   "metadata": {},
   "outputs": [
    {
     "data": {
      "text/plain": [
       "(876, 10)"
      ]
     },
     "execution_count": 11,
     "metadata": {},
     "output_type": "execute_result"
    }
   ],
   "source": [
    "df=df.drop(columns=['招聘详情页'])\n",
    "df=df.drop_duplicates()\n",
    "df=df.reset_index(drop=True)\n",
    "df.shape"
   ]
  },
  {
   "cell_type": "code",
   "execution_count": 12,
   "id": "31baf27f",
   "metadata": {
    "scrolled": false
   },
   "outputs": [
    {
     "data": {
      "text/html": [
       "<div>\n",
       "<style scoped>\n",
       "    .dataframe tbody tr th:only-of-type {\n",
       "        vertical-align: middle;\n",
       "    }\n",
       "\n",
       "    .dataframe tbody tr th {\n",
       "        vertical-align: top;\n",
       "    }\n",
       "\n",
       "    .dataframe thead th {\n",
       "        text-align: right;\n",
       "    }\n",
       "</style>\n",
       "<table border=\"1\" class=\"dataframe\">\n",
       "  <thead>\n",
       "    <tr style=\"text-align: right;\">\n",
       "      <th></th>\n",
       "      <th>岗位名称</th>\n",
       "      <th>公司名</th>\n",
       "      <th>工作地点</th>\n",
       "      <th>薪资</th>\n",
       "      <th>最低薪资</th>\n",
       "      <th>最高薪资</th>\n",
       "      <th>身份要求</th>\n",
       "      <th>学历要求</th>\n",
       "      <th>公司规模</th>\n",
       "      <th>公司简介</th>\n",
       "    </tr>\n",
       "  </thead>\n",
       "  <tbody>\n",
       "    <tr>\n",
       "      <th>0</th>\n",
       "      <td>广告</td>\n",
       "      <td>星创传媒</td>\n",
       "      <td>上海</td>\n",
       "      <td>7k-9k/月</td>\n",
       "      <td>7000.0</td>\n",
       "      <td>9000.0</td>\n",
       "      <td>应届生  毕业1年内</td>\n",
       "      <td>大专</td>\n",
       "      <td>15-50人</td>\n",
       "      <td>锻炼机会多，大专及以上，地铁直达，员工团建，工作氛围活泼，留任发展</td>\n",
       "    </tr>\n",
       "    <tr>\n",
       "      <th>1</th>\n",
       "      <td>广告</td>\n",
       "      <td>萌牙科技</td>\n",
       "      <td>宁波</td>\n",
       "      <td>8k-10k/月</td>\n",
       "      <td>8000.0</td>\n",
       "      <td>10000.0</td>\n",
       "      <td>应届生  毕业1年内</td>\n",
       "      <td>本科</td>\n",
       "      <td>150-500人</td>\n",
       "      <td>创客，福利环境超好，团队努力向上，双休年假，员工团建，节假日福利</td>\n",
       "    </tr>\n",
       "    <tr>\n",
       "      <th>2</th>\n",
       "      <td>广告</td>\n",
       "      <td>智岩科技</td>\n",
       "      <td>深圳</td>\n",
       "      <td>7k-9k/月</td>\n",
       "      <td>7000.0</td>\n",
       "      <td>9000.0</td>\n",
       "      <td>应届生</td>\n",
       "      <td>本科</td>\n",
       "      <td>150-500人</td>\n",
       "      <td>跨境电商，研发型企业，智能硬件</td>\n",
       "    </tr>\n",
       "    <tr>\n",
       "      <th>3</th>\n",
       "      <td>广告</td>\n",
       "      <td>CDG</td>\n",
       "      <td>上海</td>\n",
       "      <td>6k-8k/月</td>\n",
       "      <td>6000.0</td>\n",
       "      <td>8000.0</td>\n",
       "      <td>应届生  毕业1年内</td>\n",
       "      <td>本科</td>\n",
       "      <td>15-50人</td>\n",
       "      <td>弹性办公，年轻活力，国际化视野，数字营销</td>\n",
       "    </tr>\n",
       "    <tr>\n",
       "      <th>4</th>\n",
       "      <td>广告</td>\n",
       "      <td>艾砾文化</td>\n",
       "      <td>上海</td>\n",
       "      <td>3k-4k/月</td>\n",
       "      <td>3000.0</td>\n",
       "      <td>4000.0</td>\n",
       "      <td>应届生</td>\n",
       "      <td>不限</td>\n",
       "      <td>15-50人</td>\n",
       "      <td>广告，学习氛围好，有转正机会，新媒体运营，时间弹性，年轻平等</td>\n",
       "    </tr>\n",
       "    <tr>\n",
       "      <th>...</th>\n",
       "      <td>...</td>\n",
       "      <td>...</td>\n",
       "      <td>...</td>\n",
       "      <td>...</td>\n",
       "      <td>...</td>\n",
       "      <td>...</td>\n",
       "      <td>...</td>\n",
       "      <td>...</td>\n",
       "      <td>...</td>\n",
       "      <td>...</td>\n",
       "    </tr>\n",
       "    <tr>\n",
       "      <th>871</th>\n",
       "      <td>产品经理</td>\n",
       "      <td>数智交院</td>\n",
       "      <td>杭州</td>\n",
       "      <td>薪资面议</td>\n",
       "      <td>NaN</td>\n",
       "      <td>NaN</td>\n",
       "      <td></td>\n",
       "      <td></td>\n",
       "      <td></td>\n",
       "      <td></td>\n",
       "    </tr>\n",
       "    <tr>\n",
       "      <th>872</th>\n",
       "      <td>产品经理</td>\n",
       "      <td>广州润普</td>\n",
       "      <td>广州</td>\n",
       "      <td>6k-8k/月</td>\n",
       "      <td>6000.0</td>\n",
       "      <td>8000.0</td>\n",
       "      <td>应届生  毕业1年内</td>\n",
       "      <td>大专</td>\n",
       "      <td>150-500人</td>\n",
       "      <td>技术提升快，环境开放，大专及以上</td>\n",
       "    </tr>\n",
       "    <tr>\n",
       "      <th>873</th>\n",
       "      <td>产品经理</td>\n",
       "      <td>Moka</td>\n",
       "      <td>北京</td>\n",
       "      <td>薪资面议</td>\n",
       "      <td>NaN</td>\n",
       "      <td>NaN</td>\n",
       "      <td>应届生</td>\n",
       "      <td>不限</td>\n",
       "      <td>150-500人</td>\n",
       "      <td></td>\n",
       "    </tr>\n",
       "    <tr>\n",
       "      <th>874</th>\n",
       "      <td>产品经理</td>\n",
       "      <td>大自然</td>\n",
       "      <td>佛山</td>\n",
       "      <td>5k-7k/月</td>\n",
       "      <td>5000.0</td>\n",
       "      <td>7000.0</td>\n",
       "      <td>应届生</td>\n",
       "      <td>本科</td>\n",
       "      <td>2000人以上</td>\n",
       "      <td>就餐补助，有留用机会</td>\n",
       "    </tr>\n",
       "    <tr>\n",
       "      <th>875</th>\n",
       "      <td>产品经理</td>\n",
       "      <td>青叶软件</td>\n",
       "      <td>厦门</td>\n",
       "      <td>2k-5k/月</td>\n",
       "      <td>2000.0</td>\n",
       "      <td>5000.0</td>\n",
       "      <td>应届生</td>\n",
       "      <td>不限</td>\n",
       "      <td>50-150人</td>\n",
       "      <td>工作氛围好，福利旅游，敏捷团队，给力的福利，丰富的员工活动，有平台有机会，实习工资，零食饮品...</td>\n",
       "    </tr>\n",
       "  </tbody>\n",
       "</table>\n",
       "<p>876 rows × 10 columns</p>\n",
       "</div>"
      ],
      "text/plain": [
       "     岗位名称   公司名 工作地点        薪资    最低薪资     最高薪资         身份要求 学历要求      公司规模  \\\n",
       "0      广告  星创传媒   上海   7k-9k/月  7000.0   9000.0   应届生  毕业1年内   大专    15-50人   \n",
       "1      广告  萌牙科技   宁波  8k-10k/月  8000.0  10000.0   应届生  毕业1年内   本科  150-500人   \n",
       "2      广告  智岩科技   深圳   7k-9k/月  7000.0   9000.0          应届生   本科  150-500人   \n",
       "3      广告   CDG   上海   6k-8k/月  6000.0   8000.0   应届生  毕业1年内   本科    15-50人   \n",
       "4      广告  艾砾文化   上海   3k-4k/月  3000.0   4000.0          应届生   不限    15-50人   \n",
       "..    ...   ...  ...       ...     ...      ...          ...  ...       ...   \n",
       "871  产品经理  数智交院   杭州      薪资面议     NaN      NaN                               \n",
       "872  产品经理  广州润普   广州   6k-8k/月  6000.0   8000.0   应届生  毕业1年内   大专  150-500人   \n",
       "873  产品经理  Moka   北京      薪资面议     NaN      NaN          应届生   不限  150-500人   \n",
       "874  产品经理   大自然   佛山   5k-7k/月  5000.0   7000.0          应届生   本科   2000人以上   \n",
       "875  产品经理  青叶软件   厦门   2k-5k/月  2000.0   5000.0          应届生   不限   50-150人   \n",
       "\n",
       "                                                  公司简介  \n",
       "0                    锻炼机会多，大专及以上，地铁直达，员工团建，工作氛围活泼，留任发展  \n",
       "1                     创客，福利环境超好，团队努力向上，双休年假，员工团建，节假日福利  \n",
       "2                                      跨境电商，研发型企业，智能硬件  \n",
       "3                                 弹性办公，年轻活力，国际化视野，数字营销  \n",
       "4                       广告，学习氛围好，有转正机会，新媒体运营，时间弹性，年轻平等  \n",
       "..                                                 ...  \n",
       "871                                                     \n",
       "872                                   技术提升快，环境开放，大专及以上  \n",
       "873                                                     \n",
       "874                                         就餐补助，有留用机会  \n",
       "875  工作氛围好，福利旅游，敏捷团队，给力的福利，丰富的员工活动，有平台有机会，实习工资，零食饮品...  \n",
       "\n",
       "[876 rows x 10 columns]"
      ]
     },
     "execution_count": 12,
     "metadata": {},
     "output_type": "execute_result"
    }
   ],
   "source": [
    "df=df[['岗位名称','公司名','工作地点','薪资','最低薪资','最高薪资','身份要求','学历要求','公司规模','公司简介']]\n",
    "df"
   ]
  },
  {
   "cell_type": "markdown",
   "id": "25d97235",
   "metadata": {},
   "source": [
    "# 数据分析"
   ]
  },
  {
   "cell_type": "code",
   "execution_count": 13,
   "id": "88b738f6",
   "metadata": {},
   "outputs": [],
   "source": [
    "df_ad=df[df['岗位名称']=='广告']\n",
    "df_ba=df[df['岗位名称']=='商业分析']\n",
    "df_co=df[df['岗位名称']=='内容运营']\n",
    "df_pm=df[df['岗位名称']=='产品经理']\n",
    "df_pr=df[df['岗位名称']=='公关']\n",
    "df_us=df[df['岗位名称']=='用户研究']"
   ]
  },
  {
   "cell_type": "code",
   "execution_count": 46,
   "id": "05e88698",
   "metadata": {},
   "outputs": [
    {
     "data": {
      "text/plain": [
       "(array([0, 1, 2, 3, 4]),\n",
       " [Text(0, 0, '广州'),\n",
       "  Text(1, 0, '上海'),\n",
       "  Text(2, 0, '北京'),\n",
       "  Text(3, 0, '厦门'),\n",
       "  Text(4, 0, '南宁')])"
      ]
     },
     "execution_count": 46,
     "metadata": {},
     "output_type": "execute_result"
    },
    {
     "data": {
      "image/png": "[encoded data removed]",
      "text/plain": [
       "<Figure size 432x288 with 1 Axes>"
      ]
     },
     "metadata": {
      "needs_background": "light"
     },
     "output_type": "display_data"
    }
   ],
   "source": [
    "#1.各城市岗位数量排行 (>=10)\n",
    "df1_1=df_ad['工作地点'].value_counts().head(10)\n",
    "city1=df1_1[df1_1>=10]\n",
    "plt.title('广告岗位最多的城市')\n",
    "city1.plot(kind='bar')\n",
    "plt.legend(loc='upper right')\n",
    "plt.xticks(rotation=0)"
   ]
  },
  {
   "cell_type": "code",
   "execution_count": 15,
   "id": "86cfd321",
   "metadata": {},
   "outputs": [
    {
     "data": {
      "text/plain": [
       "(array([0, 1, 2]), [Text(0, 0, '北京'), Text(1, 0, '上海'), Text(2, 0, '成都')])"
      ]
     },
     "execution_count": 15,
     "metadata": {},
     "output_type": "execute_result"
    },
    {
     "data": {
      "image/png": "[encoded data removed]",
      "text/plain": [
       "<Figure size 432x288 with 1 Axes>"
      ]
     },
     "metadata": {
      "needs_background": "light"
     },
     "output_type": "display_data"
    }
   ],
   "source": [
    "df1_2=df_ba['工作地点'].value_counts().head(10)\n",
    "city2=df1_2[df1_2>=10]\n",
    "plt.title('商业分析岗位最多的城市')\n",
    "city2.plot(kind='bar')\n",
    "plt.legend(loc='upper right')\n",
    "plt.xticks(rotation=0)"
   ]
  },
  {
   "cell_type": "code",
   "execution_count": 16,
   "id": "da7e1469",
   "metadata": {},
   "outputs": [
    {
     "data": {
      "text/plain": [
       "(array([0, 1, 2, 3, 4]),\n",
       " [Text(0, 0, '北京'),\n",
       "  Text(1, 0, '上海'),\n",
       "  Text(2, 0, '深圳'),\n",
       "  Text(3, 0, '广州'),\n",
       "  Text(4, 0, '杭州')])"
      ]
     },
     "execution_count": 16,
     "metadata": {},
     "output_type": "execute_result"
    },
    {
     "data": {
      "image/png": "[encoded data removed]",
      "text/plain": [
       "<Figure size 432x288 with 1 Axes>"
      ]
     },
     "metadata": {
      "needs_background": "light"
     },
     "output_type": "display_data"
    }
   ],
   "source": [
    "df1_3=df_co['工作地点'].value_counts().head(10)\n",
    "city3=df1_3[df1_3>=10]\n",
    "plt.title('内容运营岗位最多的城市')\n",
    "city3.plot(kind='bar')\n",
    "plt.legend(loc='upper right')\n",
    "plt.xticks(rotation=0)"
   ]
  },
  {
   "cell_type": "code",
   "execution_count": 17,
   "id": "3f908d18",
   "metadata": {},
   "outputs": [
    {
     "data": {
      "text/plain": [
       "(array([0, 1, 2, 3, 4]),\n",
       " [Text(0, 0, '厦门'),\n",
       "  Text(1, 0, '北京'),\n",
       "  Text(2, 0, '杭州'),\n",
       "  Text(3, 0, '南宁'),\n",
       "  Text(4, 0, '上海')])"
      ]
     },
     "execution_count": 17,
     "metadata": {},
     "output_type": "execute_result"
    },
    {
     "data": {
      "image/png": "[encoded data removed]",
      "text/plain": [
       "<Figure size 432x288 with 1 Axes>"
      ]
     },
     "metadata": {
      "needs_background": "light"
     },
     "output_type": "display_data"
    }
   ],
   "source": [
    "df1_4=df_pm['工作地点'].value_counts().head(10)\n",
    "city4=df1_4[df1_4>=10]\n",
    "plt.title('产品经理岗位最多的城市')\n",
    "city4.plot(kind='bar')\n",
    "plt.legend(loc='upper right')\n",
    "plt.xticks(rotation=0)"
   ]
  },
  {
   "cell_type": "code",
   "execution_count": 18,
   "id": "be816d41",
   "metadata": {},
   "outputs": [
    {
     "data": {
      "text/plain": [
       "(array([0, 1, 2, 3, 4]),\n",
       " [Text(0, 0, '北京'),\n",
       "  Text(1, 0, '上海'),\n",
       "  Text(2, 0, '广州'),\n",
       "  Text(3, 0, '深圳'),\n",
       "  Text(4, 0, '厦门')])"
      ]
     },
     "execution_count": 18,
     "metadata": {},
     "output_type": "execute_result"
    },
    {
     "data": {
      "image/png": "[encoded data removed]",
      "text/plain": [
       "<Figure size 432x288 with 1 Axes>"
      ]
     },
     "metadata": {
      "needs_background": "light"
     },
     "output_type": "display_data"
    }
   ],
   "source": [
    "df1_5=df_pr['工作地点'].value_counts().head(10)\n",
    "city5=df1_5[df1_5>=10]\n",
    "plt.title('公关岗位最多的城市')\n",
    "city5.plot(kind='bar')\n",
    "plt.legend(loc='upper right')\n",
    "plt.xticks(rotation=0)"
   ]
  },
  {
   "cell_type": "code",
   "execution_count": 19,
   "id": "d4afeb44",
   "metadata": {},
   "outputs": [
    {
     "data": {
      "text/plain": [
       "(array([0, 1, 2, 3]),\n",
       " [Text(0, 0, '北京'), Text(1, 0, '广州'), Text(2, 0, '上海'), Text(3, 0, '深圳')])"
      ]
     },
     "execution_count": 19,
     "metadata": {},
     "output_type": "execute_result"
    },
    {
     "data": {
      "image/png": "[encoded data removed]",
      "text/plain": [
       "<Figure size 432x288 with 1 Axes>"
      ]
     },
     "metadata": {
      "needs_background": "light"
     },
     "output_type": "display_data"
    }
   ],
   "source": [
    "df1_6=df_us['工作地点'].value_counts().head(10)\n",
    "city6=df1_6[df1_6>=10]\n",
    "plt.title('用户研究岗位最多的城市')\n",
    "city6.plot(kind='bar')\n",
    "plt.legend(loc='upper right')\n",
    "plt.xticks(rotation=0)"
   ]
  },
  {
   "cell_type": "code",
   "execution_count": 20,
   "id": "feed029a",
   "metadata": {},
   "outputs": [
    {
     "name": "stdout",
     "output_type": "stream",
     "text": [
      "         最低薪资      最高薪资\n",
      "工作地点                   \n",
      "北京    9555.56  15555.56\n",
      "厦门    7083.33  11916.67\n",
      "广州    6571.43  11357.14\n",
      "上海    6250.00   9687.50\n",
      "南宁    5636.36   7636.36\n",
      "AxesSubplot(0.125,0.125;0.775x0.755)\n"
     ]
    },
    {
     "data": {
      "text/plain": [
       "(array([0, 1, 2, 3, 4]),\n",
       " [Text(0, 0, '北京'),\n",
       "  Text(1, 0, '厦门'),\n",
       "  Text(2, 0, '广州'),\n",
       "  Text(3, 0, '上海'),\n",
       "  Text(4, 0, '南宁')])"
      ]
     },
     "execution_count": 20,
     "metadata": {},
     "output_type": "execute_result"
    },
    {
     "data": {
      "image/png": "[encoded data removed]",
      "text/plain": [
       "<Figure size 432x288 with 1 Axes>"
      ]
     },
     "metadata": {
      "needs_background": "light"
     },
     "output_type": "display_data"
    }
   ],
   "source": [
    "#2.岗位大于10的城市的平均最低薪资和最高工资\n",
    "df2_1=df_ad.groupby(\"工作地点\").agg({'最低薪资':'mean','最高薪资':'mean'})\n",
    "df2_1['工作地点']=df2_1.index\n",
    "cities1=list(city1.index)\n",
    "salary1=df2_1[df2_1['工作地点'].isin (cities1)]\n",
    "salary1=salary1.sort_values(by=['最低薪资','最高薪资'],ascending=False).round({'最低薪资':2,'最高薪资':2})\n",
    "salary1.index=salary1['工作地点']\n",
    "salary1=salary1.drop(columns=['工作地点'])\n",
    "print(salary1)\n",
    "print(salary1.plot(kind='bar'))\n",
    "plt.xticks(rotation=0)"
   ]
  },
  {
   "cell_type": "code",
   "execution_count": 21,
   "id": "e3c205aa",
   "metadata": {},
   "outputs": [
    {
     "name": "stdout",
     "output_type": "stream",
     "text": [
      "         最低薪资      最高薪资\n",
      "工作地点                   \n",
      "北京    9346.15  14346.15\n",
      "上海    8357.14  13642.86\n",
      "成都    6222.22  10444.44\n",
      "AxesSubplot(0.125,0.125;0.775x0.755)\n"
     ]
    },
    {
     "data": {
      "text/plain": [
       "(array([0, 1, 2]), [Text(0, 0, '北京'), Text(1, 0, '上海'), Text(2, 0, '成都')])"
      ]
     },
     "execution_count": 21,
     "metadata": {},
     "output_type": "execute_result"
    },
    {
     "data": {
      "image/png": "[encoded data removed]",
      "text/plain": [
       "<Figure size 432x288 with 1 Axes>"
      ]
     },
     "metadata": {
      "needs_background": "light"
     },
     "output_type": "display_data"
    }
   ],
   "source": [
    "df2_2=df_ba.groupby(\"工作地点\").agg({'最低薪资':'mean','最高薪资':'mean'})\n",
    "df2_2['工作地点']=df2_2.index\n",
    "cities2=list(city2.index)\n",
    "salary2=df2_2[df2_2['工作地点'].isin (cities2)]\n",
    "salary2=salary2.sort_values(by=['最低薪资','最高薪资'],ascending=False).round({'最低薪资':2,'最高薪资':2})\n",
    "salary2.index=salary2['工作地点']\n",
    "salary2=salary2.drop(columns=['工作地点'])\n",
    "print(salary2)\n",
    "print(salary2.plot(kind='bar'))\n",
    "plt.xticks(rotation=0)"
   ]
  },
  {
   "cell_type": "code",
   "execution_count": 22,
   "id": "0d64b98c",
   "metadata": {},
   "outputs": [
    {
     "name": "stdout",
     "output_type": "stream",
     "text": [
      "         最低薪资      最高薪资\n",
      "工作地点                   \n",
      "杭州    8333.33  15333.33\n",
      "上海    8285.71  11714.29\n",
      "北京    8055.56  12500.00\n",
      "深圳    7388.89  11722.22\n",
      "广州    5200.00   8300.00\n",
      "AxesSubplot(0.125,0.125;0.775x0.755)\n"
     ]
    },
    {
     "data": {
      "text/plain": [
       "(array([0, 1, 2, 3, 4]),\n",
       " [Text(0, 0, '杭州'),\n",
       "  Text(1, 0, '上海'),\n",
       "  Text(2, 0, '北京'),\n",
       "  Text(3, 0, '深圳'),\n",
       "  Text(4, 0, '广州')])"
      ]
     },
     "execution_count": 22,
     "metadata": {},
     "output_type": "execute_result"
    },
    {
     "data": {
      "image/png": "[encoded data removed]",
      "text/plain": [
       "<Figure size 432x288 with 1 Axes>"
      ]
     },
     "metadata": {
      "needs_background": "light"
     },
     "output_type": "display_data"
    }
   ],
   "source": [
    "df2_3=df_co.groupby(\"工作地点\").agg({'最低薪资':'mean','最高薪资':'mean'})\n",
    "df2_3['工作地点']=df2_3.index\n",
    "cities3=list(city3.index)\n",
    "salary3=df2_3[df2_3['工作地点'].isin (cities3)]\n",
    "salary3=salary3.sort_values(by=['最低薪资','最高薪资'],ascending=False).round({'最低薪资':2,'最高薪资':2})\n",
    "salary3.index=salary3['工作地点']\n",
    "salary3=salary3.drop(columns=['工作地点'])\n",
    "print(salary3)\n",
    "print(salary3.plot(kind='bar'))\n",
    "plt.xticks(rotation=0)"
   ]
  },
  {
   "cell_type": "code",
   "execution_count": 23,
   "id": "d3e3bfef",
   "metadata": {},
   "outputs": [
    {
     "name": "stdout",
     "output_type": "stream",
     "text": [
      "          最低薪资      最高薪资\n",
      "工作地点                    \n",
      "上海    12285.71  19428.57\n",
      "北京    11600.00  20700.00\n",
      "杭州     9571.43  15285.71\n",
      "厦门     8210.53  13763.16\n",
      "南宁     8181.82  11181.82\n",
      "AxesSubplot(0.125,0.125;0.775x0.755)\n"
     ]
    },
    {
     "data": {
      "text/plain": [
       "(array([0, 1, 2, 3, 4]),\n",
       " [Text(0, 0, '上海'),\n",
       "  Text(1, 0, '北京'),\n",
       "  Text(2, 0, '杭州'),\n",
       "  Text(3, 0, '厦门'),\n",
       "  Text(4, 0, '南宁')])"
      ]
     },
     "execution_count": 23,
     "metadata": {},
     "output_type": "execute_result"
    },
    {
     "data": {
      "image/png": "[encoded data removed]",
      "text/plain": [
       "<Figure size 432x288 with 1 Axes>"
      ]
     },
     "metadata": {
      "needs_background": "light"
     },
     "output_type": "display_data"
    }
   ],
   "source": [
    "df2_4=df_pm.groupby(\"工作地点\").agg({'最低薪资':'mean','最高薪资':'mean'})\n",
    "df2_4['工作地点']=df2_4.index\n",
    "cities4=list(city4.index)\n",
    "salary4=df2_4[df2_4['工作地点'].isin (cities4)]\n",
    "salary4=salary4.sort_values(by=['最低薪资','最高薪资'],ascending=False).round({'最低薪资':2,'最高薪资':2})\n",
    "salary4.index=salary4['工作地点']\n",
    "salary4=salary4.drop(columns=['工作地点'])\n",
    "print(salary4)\n",
    "print(salary4.plot(kind='bar'))\n",
    "plt.xticks(rotation=0)"
   ]
  },
  {
   "cell_type": "code",
   "execution_count": 24,
   "id": "4b148b78",
   "metadata": {},
   "outputs": [
    {
     "name": "stdout",
     "output_type": "stream",
     "text": [
      "          最低薪资      最高薪资\n",
      "工作地点                    \n",
      "厦门    10636.36  18818.18\n",
      "深圳     7000.00  11000.00\n",
      "北京     6363.64   9909.09\n",
      "上海     6000.00   9363.64\n",
      "广州     5894.74   9631.58\n",
      "AxesSubplot(0.125,0.125;0.775x0.755)\n"
     ]
    },
    {
     "data": {
      "text/plain": [
       "(array([0, 1, 2, 3, 4]),\n",
       " [Text(0, 0, '厦门'),\n",
       "  Text(1, 0, '深圳'),\n",
       "  Text(2, 0, '北京'),\n",
       "  Text(3, 0, '上海'),\n",
       "  Text(4, 0, '广州')])"
      ]
     },
     "execution_count": 24,
     "metadata": {},
     "output_type": "execute_result"
    },
    {
     "data": {
      "image/png": "[encoded data removed]",
      "text/plain": [
       "<Figure size 432x288 with 1 Axes>"
      ]
     },
     "metadata": {
      "needs_background": "light"
     },
     "output_type": "display_data"
    }
   ],
   "source": [
    "df2_5=df_pr.groupby(\"工作地点\").agg({'最低薪资':'mean','最高薪资':'mean'})\n",
    "df2_5['工作地点']=df2_5.index\n",
    "cities5=list(city5.index)\n",
    "salary5=df2_5[df2_5['工作地点'].isin (cities5)]\n",
    "salary5=salary5.sort_values(by=['最低薪资','最高薪资'],ascending=False).round({'最低薪资':2,'最高薪资':2})\n",
    "salary5.index=salary5['工作地点']\n",
    "salary5=salary5.drop(columns=['工作地点'])\n",
    "print(salary5)\n",
    "print(salary5.plot(kind='bar'))\n",
    "plt.xticks(rotation=0)"
   ]
  },
  {
   "cell_type": "code",
   "execution_count": 25,
   "id": "9c95f87d",
   "metadata": {},
   "outputs": [
    {
     "name": "stdout",
     "output_type": "stream",
     "text": [
      "          最低薪资     最高薪资\n",
      "工作地点                   \n",
      "深圳    10333.33  17000.0\n",
      "上海    10200.00  16600.0\n",
      "北京     9166.67  14500.0\n",
      "广州     6000.00   8250.0\n",
      "AxesSubplot(0.125,0.125;0.775x0.755)\n"
     ]
    },
    {
     "data": {
      "text/plain": [
       "(array([0, 1, 2, 3]),\n",
       " [Text(0, 0, '深圳'), Text(1, 0, '上海'), Text(2, 0, '北京'), Text(3, 0, '广州')])"
      ]
     },
     "execution_count": 25,
     "metadata": {},
     "output_type": "execute_result"
    },
    {
     "data": {
      "image/png": "[encoded data removed]",
      "text/plain": [
       "<Figure size 432x288 with 1 Axes>"
      ]
     },
     "metadata": {
      "needs_background": "light"
     },
     "output_type": "display_data"
    }
   ],
   "source": [
    "df2_6=df_us.groupby(\"工作地点\").agg({'最低薪资':'mean','最高薪资':'mean'})\n",
    "df2_6['工作地点']=df2_6.index\n",
    "cities6=list(city6.index)\n",
    "salary6=df2_6[df2_6['工作地点'].isin (cities6)]\n",
    "salary6=salary6.sort_values(by=['最低薪资','最高薪资'],ascending=False).round({'最低薪资':2,'最高薪资':2})\n",
    "salary6.index=salary6['工作地点']\n",
    "salary6=salary6.drop(columns=['工作地点'])\n",
    "print(salary6)\n",
    "print(salary6.plot(kind='bar'))\n",
    "plt.xticks(rotation=0)"
   ]
  },
  {
   "cell_type": "code",
   "execution_count": 26,
   "id": "602c982d",
   "metadata": {},
   "outputs": [
    {
     "data": {
      "text/plain": [
       "(array([0, 1, 2, 3, 4, 5, 6, 7]),\n",
       " [Text(0, 0, '欢聚集团'),\n",
       "  Text(1, 0, '一点资讯'),\n",
       "  Text(2, 0, '雨果网'),\n",
       "  Text(3, 0, '畅游天下'),\n",
       "  Text(4, 0, '步步高教育电子'),\n",
       "  Text(5, 0, '吉比特'),\n",
       "  Text(6, 0, '友塔游戏'),\n",
       "  Text(7, 0, '宁道之星')])"
      ]
     },
     "execution_count": 26,
     "metadata": {},
     "output_type": "execute_result"
    },
    {
     "data": {
      "image/png": "[encoded data removed]",
      "text/plain": [
       "<Figure size 432x288 with 1 Axes>"
      ]
     },
     "metadata": {
      "needs_background": "light"
     },
     "output_type": "display_data"
    }
   ],
   "source": [
    "#3.薪资前10的公司信息（先用最低薪资，然后用最高工资排序）及对应公司\n",
    "df3_1=df_ad.sort_values(by=['最低薪资','最高薪资'],ascending=False).head(10).loc[:,['公司名','工作地点','公司规模','最低薪资','最高薪资','公司简介']]\n",
    "df3_1.index=df3_1['公司名']\n",
    "df3_1=df3_1.drop_duplicates(['公司名'])\n",
    "df3_1.plot(kind='bar')\n",
    "plt.xticks(rotation=45)"
   ]
  },
  {
   "cell_type": "code",
   "execution_count": 27,
   "id": "add41b28",
   "metadata": {},
   "outputs": [
    {
     "data": {
      "text/plain": [
       "(array([0, 1, 2, 3, 4, 5, 6, 7, 8, 9]),\n",
       " [Text(0, 0, '百度'),\n",
       "  Text(1, 0, ' 广策信息 '),\n",
       "  Text(2, 0, '十沣科技'),\n",
       "  Text(3, 0, '行芯科技'),\n",
       "  Text(4, 0, '掌上先机'),\n",
       "  Text(5, 0, '衡泰技术'),\n",
       "  Text(6, 0, '节能减排中心'),\n",
       "  Text(7, 0, '亮道智能'),\n",
       "  Text(8, 0, '随训通'),\n",
       "  Text(9, 0, '拓维信息')])"
      ]
     },
     "execution_count": 27,
     "metadata": {},
     "output_type": "execute_result"
    },
    {
     "data": {
      "image/png": "[encoded data removed]",
      "text/plain": [
       "<Figure size 432x288 with 1 Axes>"
      ]
     },
     "metadata": {
      "needs_background": "light"
     },
     "output_type": "display_data"
    }
   ],
   "source": [
    "df3_2=df_ba.sort_values(by=['最低薪资','最高薪资'],ascending=False).head(10).loc[:,['公司名','工作地点','公司规模','最低薪资','最高薪资','公司简介']]\n",
    "df3_2.index=df3_2['公司名']\n",
    "df3_2=df3_2.drop_duplicates(['公司名'])\n",
    "df3_2.plot(kind='bar')\n",
    "plt.xticks(rotation=45)"
   ]
  },
  {
   "cell_type": "code",
   "execution_count": 28,
   "id": "5f69f6bd",
   "metadata": {},
   "outputs": [
    {
     "data": {
      "text/plain": [
       "(array([0, 1, 2, 3, 4, 5, 6, 7, 8, 9]),\n",
       " [Text(0, 0, '又为智能'),\n",
       "  Text(1, 0, '大咖素质训练营'),\n",
       "  Text(2, 0, '小胖熊'),\n",
       "  Text(3, 0, '蓝晶微生物'),\n",
       "  Text(4, 0, '话本小说'),\n",
       "  Text(5, 0, '迷你玩'),\n",
       "  Text(6, 0, '好买财富'),\n",
       "  Text(7, 0, '贝叶智能'),\n",
       "  Text(8, 0, '同花顺'),\n",
       "  Text(9, 0, '富途网络')])"
      ]
     },
     "execution_count": 28,
     "metadata": {},
     "output_type": "execute_result"
    },
    {
     "data": {
      "image/png": "[encoded data removed]",
      "text/plain": [
       "<Figure size 432x288 with 1 Axes>"
      ]
     },
     "metadata": {
      "needs_background": "light"
     },
     "output_type": "display_data"
    }
   ],
   "source": [
    "df3_3=df_co.sort_values(by=['最低薪资','最高薪资'],ascending=False).head(10).loc[:,['公司名','工作地点','公司规模','最低薪资','最高薪资','公司简介']]\n",
    "df3_3.index=df3_3['公司名']\n",
    "df3_3=df3_3.drop_duplicates(['公司名'])\n",
    "df3_3.plot(kind='bar')\n",
    "plt.xticks(rotation=45)"
   ]
  },
  {
   "cell_type": "code",
   "execution_count": 29,
   "id": "3d5f814f",
   "metadata": {},
   "outputs": [
    {
     "data": {
      "text/plain": [
       "(array([0, 1, 2, 3, 4, 5, 6, 7, 8, 9]),\n",
       " [Text(0, 0, '预勾'),\n",
       "  Text(1, 0, '蓝湖'),\n",
       "  Text(2, 0, '一束光科技'),\n",
       "  Text(3, 0, '海豹他趣'),\n",
       "  Text(4, 0, '那一科技'),\n",
       "  Text(5, 0, '交个朋友'),\n",
       "  Text(6, 0, '小胖熊'),\n",
       "  Text(7, 0, '帆软软件'),\n",
       "  Text(8, 0, '即时设计'),\n",
       "  Text(9, 0, 'QTrade')])"
      ]
     },
     "execution_count": 29,
     "metadata": {},
     "output_type": "execute_result"
    },
    {
     "data": {
      "image/png": "[encoded data removed]",
      "text/plain": [
       "<Figure size 432x288 with 1 Axes>"
      ]
     },
     "metadata": {
      "needs_background": "light"
     },
     "output_type": "display_data"
    }
   ],
   "source": [
    "df3_4=df_pm.sort_values(by=['最低薪资','最高薪资'],ascending=False).head(10).loc[:,['公司名','工作地点','公司规模','最低薪资','最高薪资','公司简介']]\n",
    "df3_4.index=df3_4['公司名']\n",
    "df3_4=df3_4.drop_duplicates(['公司名'])\n",
    "df3_4.plot(kind='bar')\n",
    "plt.xticks(rotation=45)"
   ]
  },
  {
   "cell_type": "code",
   "execution_count": 30,
   "id": "3b8bbb09",
   "metadata": {},
   "outputs": [
    {
     "data": {
      "text/plain": [
       "(array([0, 1, 2, 3, 4, 5, 6, 7, 8, 9]),\n",
       " [Text(0, 0, '造化集团'),\n",
       "  Text(1, 0, '松霖科技'),\n",
       "  Text(2, 0, '星之辰娱乐'),\n",
       "  Text(3, 0, '陌推网络'),\n",
       "  Text(4, 0, '迷你玩'),\n",
       "  Text(5, 0, '电之美'),\n",
       "  Text(6, 0, '九牧厨卫'),\n",
       "  Text(7, 0, '盈峰集团'),\n",
       "  Text(8, 0, '小雨科技'),\n",
       "  Text(9, 0, '捷佳润集团')])"
      ]
     },
     "execution_count": 30,
     "metadata": {},
     "output_type": "execute_result"
    },
    {
     "data": {
      "image/png": "[encoded data removed]",
      "text/plain": [
       "<Figure size 432x288 with 1 Axes>"
      ]
     },
     "metadata": {
      "needs_background": "light"
     },
     "output_type": "display_data"
    }
   ],
   "source": [
    "df3_5=df_pr.sort_values(by=['最低薪资','最高薪资'],ascending=False).head(10).loc[:,['公司名','工作地点','公司规模','最低薪资','最高薪资','公司简介']]\n",
    "df3_5.index=df3_5['公司名']\n",
    "df3_5=df3_5.drop_duplicates(['公司名'])\n",
    "df3_5.plot(kind='bar')\n",
    "plt.xticks(rotation=45)"
   ]
  },
  {
   "cell_type": "code",
   "execution_count": 31,
   "id": "57e3f3da",
   "metadata": {},
   "outputs": [
    {
     "data": {
      "text/plain": [
       "(array([0, 1, 2, 3, 4, 5, 6, 7, 8, 9]),\n",
       " [Text(0, 0, '韶音科技'),\n",
       "  Text(1, 0, '敦煌网'),\n",
       "  Text(2, 0, '又为智能'),\n",
       "  Text(3, 0, '共志通信'),\n",
       "  Text(4, 0, '畅游天下'),\n",
       "  Text(5, 0, '步步高教育电子'),\n",
       "  Text(6, 0, '创梦天地'),\n",
       "  Text(7, 0, 'AKULAKU'),\n",
       "  Text(8, 0, '同花顺'),\n",
       "  Text(9, 0, '京东科技')])"
      ]
     },
     "execution_count": 31,
     "metadata": {},
     "output_type": "execute_result"
    },
    {
     "data": {
      "image/png": "[encoded data removed]",
      "text/plain": [
       "<Figure size 432x288 with 1 Axes>"
      ]
     },
     "metadata": {
      "needs_background": "light"
     },
     "output_type": "display_data"
    }
   ],
   "source": [
    "df3_6=df_us.sort_values(by=['最低薪资','最高薪资'],ascending=False).head(10).loc[:,['公司名','工作地点','公司规模','最低薪资','最高薪资','公司简介']]\n",
    "df3_6.index=df3_6['公司名']\n",
    "df3_6=df3_6.drop_duplicates(['公司名'])\n",
    "df3_6.plot(kind='bar')\n",
    "plt.xticks(rotation=45)"
   ]
  },
  {
   "cell_type": "code",
   "execution_count": 32,
   "id": "53af01b0",
   "metadata": {},
   "outputs": [
    {
     "data": {
      "text/plain": [
       "[6767, 8235, 6605, 9172, 6678, 8025]"
      ]
     },
     "execution_count": 32,
     "metadata": {},
     "output_type": "execute_result"
    }
   ],
   "source": [
    "#4.岗位间薪资比较\n",
    "low_salaries=[round(df_ad['最低薪资'].mean()),round(df_ba['最低薪资'].mean()),round(df_co['最低薪资'].mean()),round(df_pm['最低薪资'].mean()),round(df_pr['最低薪资'].mean()),round(df_us['最低薪资'].mean())]\n",
    "low_salaries"
   ]
  },
  {
   "cell_type": "code",
   "execution_count": 33,
   "id": "49ee015e",
   "metadata": {},
   "outputs": [
    {
     "data": {
      "text/plain": [
       "[10942, 13327, 10372, 14737, 10724, 12975]"
      ]
     },
     "execution_count": 33,
     "metadata": {},
     "output_type": "execute_result"
    }
   ],
   "source": [
    "high_salaries=[round(df_ad['最高薪资'].mean()),round(df_ba['最高薪资'].mean()),round(df_co['最高薪资'].mean()),round(df_pm['最高薪资'].mean()),round(df_pr['最高薪资'].mean()),round(df_us['最高薪资'].mean())]\n",
    "high_salaries"
   ]
  },
  {
   "cell_type": "code",
   "execution_count": 34,
   "id": "fa251979",
   "metadata": {},
   "outputs": [],
   "source": [
    "titles=['广告','商业分析','内容运营','产品经理','公关','用户研究']"
   ]
  },
  {
   "cell_type": "code",
   "execution_count": 51,
   "id": "6e251663",
   "metadata": {},
   "outputs": [
    {
     "data": {
      "text/html": [
       "<div>\n",
       "<style scoped>\n",
       "    .dataframe tbody tr th:only-of-type {\n",
       "        vertical-align: middle;\n",
       "    }\n",
       "\n",
       "    .dataframe tbody tr th {\n",
       "        vertical-align: top;\n",
       "    }\n",
       "\n",
       "    .dataframe thead th {\n",
       "        text-align: right;\n",
       "    }\n",
       "</style>\n",
       "<table border=\"1\" class=\"dataframe\">\n",
       "  <thead>\n",
       "    <tr style=\"text-align: right;\">\n",
       "      <th></th>\n",
       "      <th>position titles</th>\n",
       "      <th>minimum salaries</th>\n",
       "      <th>maximum salaries</th>\n",
       "    </tr>\n",
       "  </thead>\n",
       "  <tbody>\n",
       "    <tr>\n",
       "      <th>1</th>\n",
       "      <td>产品经理</td>\n",
       "      <td>9172</td>\n",
       "      <td>14737</td>\n",
       "    </tr>\n",
       "    <tr>\n",
       "      <th>2</th>\n",
       "      <td>商业分析</td>\n",
       "      <td>8235</td>\n",
       "      <td>13327</td>\n",
       "    </tr>\n",
       "    <tr>\n",
       "      <th>3</th>\n",
       "      <td>用户研究</td>\n",
       "      <td>8025</td>\n",
       "      <td>12975</td>\n",
       "    </tr>\n",
       "    <tr>\n",
       "      <th>4</th>\n",
       "      <td>广告</td>\n",
       "      <td>6767</td>\n",
       "      <td>10942</td>\n",
       "    </tr>\n",
       "    <tr>\n",
       "      <th>5</th>\n",
       "      <td>公关</td>\n",
       "      <td>6678</td>\n",
       "      <td>10724</td>\n",
       "    </tr>\n",
       "    <tr>\n",
       "      <th>6</th>\n",
       "      <td>内容运营</td>\n",
       "      <td>6605</td>\n",
       "      <td>10372</td>\n",
       "    </tr>\n",
       "  </tbody>\n",
       "</table>\n",
       "</div>"
      ],
      "text/plain": [
       "  position titles  minimum salaries  maximum salaries\n",
       "1            产品经理              9172             14737\n",
       "2            商业分析              8235             13327\n",
       "3            用户研究              8025             12975\n",
       "4              广告              6767             10942\n",
       "5              公关              6678             10724\n",
       "6            内容运营              6605             10372"
      ]
     },
     "execution_count": 51,
     "metadata": {},
     "output_type": "execute_result"
    }
   ],
   "source": [
    "dict_sal={'position titles':titles,'minimum salaries':low_salaries,'maximum salaries':high_salaries}\n",
    "sal_rank=pd.DataFrame(dict_sal).sort_values(by=['minimum salaries','maximum salaries'],ascending=False).reset_index(drop=True)\n",
    "sal_rank.index=['1','2','3','4','5','6']\n",
    "sal_rank"
   ]
  },
  {
   "cell_type": "code",
   "execution_count": 36,
   "id": "af1915bc",
   "metadata": {
    "scrolled": true
   },
   "outputs": [
    {
     "data": {
      "text/plain": [
       "F_onewayResult(statistic=7.911182582417013, pvalue=3.51067532598249e-07)"
      ]
     },
     "execution_count": 36,
     "metadata": {},
     "output_type": "execute_result"
    }
   ],
   "source": [
    "ano_salary1=[]\n",
    "df4=df[df['薪资']!='薪资面议']\n",
    "df4.index=df4['岗位名称']\n",
    "df4=df4[['岗位名称','最低薪资','最高薪资']]\n",
    "df4['平均薪资']=(df4['最低薪资']+df4['最高薪资'])/2\n",
    "df4=df4.dropna()\n",
    "for i in ['产品经理','商业分析','用户研究','广告','公关','内容运营']:\n",
    "    ano_salary1.append(df4[df4['岗位名称']==i]['最低薪资'])\n",
    "f1,p1=stats.f_oneway(*ano_salary1)\n",
    "stats.f_oneway(*ano_salary1)"
   ]
  },
  {
   "cell_type": "code",
   "execution_count": 37,
   "id": "2a24e447",
   "metadata": {},
   "outputs": [
    {
     "name": "stdout",
     "output_type": "stream",
     "text": [
      "不同行业之间最低薪资具有显著性差异\n"
     ]
    }
   ],
   "source": [
    "if p1<0.05:\n",
    "    print('不同行业之间最低薪资具有显著性差异')\n",
    "else:\n",
    "    print('不同行业之间最低薪资不具有显著性差异')"
   ]
  },
  {
   "cell_type": "code",
   "execution_count": 38,
   "id": "d25fd38a",
   "metadata": {},
   "outputs": [
    {
     "data": {
      "text/plain": [
       "F_onewayResult(statistic=8.461683801451995, pvalue=1.0768046716960483e-07)"
      ]
     },
     "execution_count": 38,
     "metadata": {},
     "output_type": "execute_result"
    }
   ],
   "source": [
    "ano_salary2=[]\n",
    "for i in ['产品经理','商业分析','用户研究','广告','公关','内容运营']:\n",
    "    ano_salary2.append(df4[df4['岗位名称']==i]['最高薪资'])\n",
    "f2,p2=stats.f_oneway(*ano_salary2)\n",
    "stats.f_oneway(*ano_salary2)"
   ]
  },
  {
   "cell_type": "code",
   "execution_count": 39,
   "id": "0b14e97e",
   "metadata": {},
   "outputs": [
    {
     "name": "stdout",
     "output_type": "stream",
     "text": [
      "不同行业之间最高薪资具有显著性差异\n"
     ]
    }
   ],
   "source": [
    "if p2<0.05:\n",
    "    print('不同行业之间最高薪资具有显著性差异')\n",
    "else:\n",
    "    print('不同行业之间最高薪资不具有显著性差异')"
   ]
  },
  {
   "cell_type": "code",
   "execution_count": 40,
   "id": "63f18e1d",
   "metadata": {},
   "outputs": [
    {
     "data": {
      "text/plain": [
       "F_onewayResult(statistic=8.738630214489348, pvalue=5.943525844547338e-08)"
      ]
     },
     "execution_count": 40,
     "metadata": {},
     "output_type": "execute_result"
    }
   ],
   "source": [
    "ano_salary3=[]\n",
    "for i in ['产品经理','商业分析','用户研究','广告','公关','内容运营']:\n",
    "    ano_salary3.append(df4[df4['岗位名称']==i]['平均薪资'])\n",
    "f3,p3=stats.f_oneway(*ano_salary3)\n",
    "stats.f_oneway(*ano_salary3)"
   ]
  },
  {
   "cell_type": "code",
   "execution_count": 41,
   "id": "ee8eed09",
   "metadata": {},
   "outputs": [
    {
     "name": "stdout",
     "output_type": "stream",
     "text": [
      "不同行业之间平均薪资具有显著性差异\n"
     ]
    }
   ],
   "source": [
    "if p3<0.05:\n",
    "    print('不同行业之间平均薪资具有显著性差异')\n",
    "else:\n",
    "    print('不同行业之间平均薪资不具有显著性差异')"
   ]
  },
  {
   "cell_type": "code",
   "execution_count": 42,
   "id": "56505266",
   "metadata": {
    "scrolled": true
   },
   "outputs": [],
   "source": [
    "#5.公司简介词频分析及词云\n",
    "intro=[]\n",
    "for i in range(len(df)):\n",
    "    if df['公司简介'][i]!=' ':\n",
    "        intro.append(df['公司简介'][i])\n",
    "#intro"
   ]
  },
  {
   "cell_type": "code",
   "execution_count": 43,
   "id": "2386e85f",
   "metadata": {},
   "outputs": [
    {
     "name": "stderr",
     "output_type": "stream",
     "text": [
      "Building prefix dict from the default dictionary ...\n",
      "Loading model from cache C:\\Users\\24329\\AppData\\Local\\Temp\\jieba.cache\n",
      "Loading model cost 0.607 seconds.\n",
      "Prefix dict has been built successfully.\n"
     ]
    }
   ],
   "source": [
    "words=\"\".join(intro)\n",
    "words=jieba.lcut(words)"
   ]
  },
  {
   "cell_type": "code",
   "execution_count": 52,
   "id": "f4c1db07",
   "metadata": {},
   "outputs": [
    {
     "name": "stdout",
     "output_type": "stream",
     "text": [
      "团队          115\n",
      "福利           86\n",
      "氛围           85\n",
      "环境           84\n",
      "机会           76\n",
      "amp          76\n",
      "工作           57\n",
      "年轻           57\n",
      "实习           57\n",
      "五险           53\n",
      "成长           53\n",
      "发展           50\n",
      "活力           50\n",
      "双休           49\n",
      "一金           49\n"
     ]
    }
   ],
   "source": [
    "counts={}\n",
    "for word in words:\n",
    "    if len(word)==1:\n",
    "        continue\n",
    "    else:\n",
    "        counts[word]=counts.get(word,0)+1\n",
    "items=list(counts.items())\n",
    "items.sort(key=lambda x:x[1],reverse=True)\n",
    "for i in range(15):\n",
    "    word,count=items[i]\n",
    "    print(\"{0:<10}{1:>5}\".format(word,count))"
   ]
  },
  {
   "cell_type": "code",
   "execution_count": 45,
   "id": "211f200f",
   "metadata": {},
   "outputs": [
    {
     "data": {
      "image/png": "[encoded data removed]",
      "text/plain": [
       "<Figure size 432x288 with 1 Axes>"
      ]
     },
     "metadata": {
      "needs_background": "light"
     },
     "output_type": "display_data"
    }
   ],
   "source": [
    "background='BMW 6.jpg'\n",
    "mask = numpy.array(Image.open(background))\n",
    "number=100\n",
    "wc = wordcloud.WordCloud(\n",
    "    font_path = 'C:/Windows/Fonts/simfang.ttf', \n",
    "    background_color='white',                  \n",
    "    mask = mask,                               \n",
    "    max_words = number,                      \n",
    "    max_font_size = 150                         \n",
    ")\n",
    "\n",
    "wc.generate_from_frequencies(counts)                                      \n",
    "wc.recolor(color_func=wordcloud.ImageColorGenerator(mask))                    \n",
    "plt.figure('词云')                                                              \n",
    "plt.subplots_adjust(top=0.99,bottom=0.01,right=0.99,left=0.01,hspace=0,wspace=0) \n",
    "plt.imshow(wc, cmap=plt.cm.gray, interpolation='bilinear')                      \n",
    "plt.axis('off')                                                                  \n",
    "plt.show() "
   ]
  },
  {
   "cell_type": "code",
   "execution_count": null,
   "id": "5ec1108e",
   "metadata": {},
   "outputs": [],
   "source": []
  }
 ],
 "metadata": {
  "kernelspec": {
   "display_name": "Python 3",
   "language": "python",
   "name": "python3"
  },
  "language_info": {
   "codemirror_mode": {
    "name": "ipython",
    "version": 3
   },
   "file_extension": ".py",
   "mimetype": "text/x-python",
   "name": "python",
   "nbconvert_exporter": "python",
   "pygments_lexer": "ipython3",
   "version": "3.8.8"
  }
 },
 "nbformat": 4,
 "nbformat_minor": 5
}
